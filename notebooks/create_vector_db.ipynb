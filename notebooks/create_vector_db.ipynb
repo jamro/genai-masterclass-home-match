{
 "cells": [
  {
   "cell_type": "markdown",
   "id": "823f9357",
   "metadata": {},
   "source": [
    "# Vector Database Creation for Real Estate Listings\n",
    "\n",
    "Creates a vector database from real estate listings using ChromaDB and OpenAI embeddings. The process involves:\n",
    "\n",
    "**Note:** All generated embeddings are stored in the `data/embeddings/` directory as individual JSON files.\n"
   ]
  },
  {
   "cell_type": "code",
   "execution_count": 9,
   "id": "a697b862",
   "metadata": {},
   "outputs": [],
   "source": [
    "import chromadb\n",
    "import os\n",
    "import random\n",
    "from chromadb.config import Settings\n",
    "import json\n",
    "from langchain_openai import OpenAIEmbeddings"
   ]
  },
  {
   "cell_type": "markdown",
   "id": "fba7c844",
   "metadata": {},
   "source": [
    "## Data Loading\n",
    "\n",
    "Load raw real estate listing data from JSON files in the `data/raw` directory. Each file contains property details including title, description, features, and metadata.\n"
   ]
  },
  {
   "cell_type": "code",
   "execution_count": 10,
   "id": "557c70ad",
   "metadata": {},
   "outputs": [],
   "source": [
    "raw_data_dir = os.path.join(os.getcwd(), \"../data/raw\")\n",
    "\n",
    "raw_data = []\n",
    "\n",
    "for file in os.listdir(raw_data_dir):\n",
    "    with open(os.path.join(raw_data_dir, file), \"r\") as f:\n",
    "        data = json.load(f)\n",
    "        data['filename'] = file\n",
    "        raw_data.append(data)\n"
   ]
  },
  {
   "cell_type": "markdown",
   "id": "42532c6d",
   "metadata": {},
   "source": [
    "## Document Preparation\n",
    "\n",
    "Transform raw listing data into structured documents suitable for embedding. Each document combines property details into a comprehensive text format while preserving key metadata for filtering and retrieval."
   ]
  },
  {
   "cell_type": "code",
   "execution_count": 11,
   "id": "5d0e0c27",
   "metadata": {},
   "outputs": [],
   "source": [
    "all_docs = []\n",
    "for entry in raw_data:\n",
    "    doc = {}\n",
    "    doc['filename'] = entry['filename']\n",
    "    doc['text'] = f\"\"\"TITLE: {entry['title']}\n",
    "PROPERTY: {entry['property_type']}, {entry['bedrooms']} bedrooms, {entry['bathrooms']} bathrooms, {entry['size_sqm']  } square meters\n",
    "LOCATION: {entry['city']}, {entry['neighborhood']}\n",
    "DESCRIPTION: {entry['description']}\n",
    "FEATURES: {\", \".join(entry['key_features'])}\n",
    "LIFESTYLE: {\", \".join(entry['lifestyle_benefits'])}\n",
    "NEIGHBORHOOD: {entry['neighborhood_description']}\n",
    "BUYER PROFILE: {entry['target_buyer']}\n",
    "MARKET POSITIONING: {entry['market_positioning']}\n",
    "\"\"\"\n",
    "    doc['metadata'] = {\n",
    "        'city': entry['city'],\n",
    "        'neighborhood': entry['neighborhood'],\n",
    "        'property_type': entry['property_type'],\n",
    "        'bedrooms': entry['bedrooms'],\n",
    "        'bathrooms': entry['bathrooms'],\n",
    "        'size_sqm': entry['size_sqm'],\n",
    "        'price': entry['price'],\n",
    "        'urban_level': entry['urban_level'],\n",
    "        'has_highway_access': 'highway' in entry['transport_options'],\n",
    "        'has_bike_lines_access': 'bike lines' in entry['transport_options'],\n",
    "        'has_public_transport_access': 'public transport' in entry['transport_options'],\n",
    "        'has_airport_access': 'airport' in entry['transport_options'],\n",
    "    }\n",
    "    all_docs.append(doc)"
   ]
  },
  {
   "cell_type": "markdown",
   "id": "57975e20",
   "metadata": {},
   "source": [
    "## Embedding Generation\n",
    "\n",
    "Generate vector embeddings for each document using OpenAI's `text-embedding-3-small` model. The process includes caching to avoid regenerating embeddings for existing documents.\n"
   ]
  },
  {
   "cell_type": "code",
   "execution_count": 12,
   "id": "086861b9",
   "metadata": {},
   "outputs": [
    {
     "name": "stdout",
     "output_type": "stream",
     "text": [
      "Generating embedding for listing_025.json [1/46]... restored from file\n",
      "Generating embedding for listing_033.json [2/46]... "
     ]
    },
    {
     "name": "stdout",
     "output_type": "stream",
     "text": [
      "restored from file\n",
      "Generating embedding for listing_009.json [3/46]... restored from file\n",
      "Generating embedding for listing_029.json [4/46]... restored from file\n",
      "Generating embedding for listing_013.json [5/46]... restored from file\n",
      "Generating embedding for listing_044.json [6/46]... restored from file\n",
      "Generating embedding for listing_005.json [7/46]... restored from file\n",
      "Generating embedding for listing_004.json [8/46]... restored from file\n",
      "Generating embedding for listing_045.json [9/46]... restored from file\n",
      "Generating embedding for listing_012.json [10/46]... restored from file\n",
      "Generating embedding for listing_028.json [11/46]... restored from file\n",
      "Generating embedding for listing_008.json [12/46]... restored from file\n",
      "Generating embedding for listing_032.json [13/46]... restored from file\n",
      "Generating embedding for listing_024.json [14/46]... restored from file\n",
      "Generating embedding for listing_039.json [15/46]... restored from file\n",
      "Generating embedding for listing_015.json [16/46]... restored from file\n",
      "Generating embedding for listing_042.json [17/46]... restored from file\n",
      "Generating embedding for listing_003.json [18/46]... restored from file\n",
      "Generating embedding for listing_023.json [19/46]... restored from file\n",
      "Generating embedding for listing_035.json [20/46]... restored from file\n",
      "Generating embedding for listing_019.json [21/46]... restored from file\n",
      "Generating embedding for listing_018.json [22/46]... restored from file\n",
      "Generating embedding for listing_034.json [23/46]... restored from file\n",
      "Generating embedding for listing_022.json [24/46]... restored from file\n",
      "Generating embedding for listing_002.json [25/46]... restored from file\n",
      "Generating embedding for listing_043.json [26/46]... restored from file\n",
      "Generating embedding for listing_014.json [27/46]... restored from file\n",
      "Generating embedding for listing_038.json [28/46]... restored from file\n",
      "Generating embedding for listing_001.json [29/46]... restored from file\n",
      "Generating embedding for listing_040.json [30/46]... restored from file\n",
      "Generating embedding for listing_017.json [31/46]... restored from file\n",
      "Generating embedding for listing_037.json [32/46]... restored from file\n",
      "Generating embedding for listing_021.json [33/46]... restored from file\n",
      "Generating embedding for listing_020.json [34/46]... restored from file\n",
      "Generating embedding for listing_036.json [35/46]... restored from file\n",
      "Generating embedding for listing_016.json [36/46]... restored from file\n",
      "Generating embedding for listing_041.json [37/46]... restored from file\n",
      "Generating embedding for listing_031.json [38/46]... restored from file\n",
      "Generating embedding for listing_027.json [39/46]... restored from file\n",
      "Generating embedding for listing_007.json [40/46]... restored from file\n",
      "Generating embedding for listing_046.json [41/46]... restored from file\n",
      "Generating embedding for listing_011.json [42/46]... restored from file\n",
      "Generating embedding for listing_010.json [43/46]... restored from file\n",
      "Generating embedding for listing_006.json [44/46]... restored from file\n",
      "Generating embedding for listing_026.json [45/46]... restored from file\n",
      "Generating embedding for listing_030.json [46/46]... restored from file\n"
     ]
    }
   ],
   "source": [
    "embeddings_data_path = os.path.join(os.getcwd(), \"../data/embeddings/\")\n",
    "\n",
    "model = OpenAIEmbeddings(model=\"text-embedding-3-small\")\n",
    "\n",
    "for i, doc in enumerate(all_docs):\n",
    "    filename = doc['filename']\n",
    "    filepath = os.path.join(embeddings_data_path, filename)\n",
    "\n",
    "    print(f\"Generating embedding for {filename} [{i+1}/{len(all_docs)}]... \", end=\"\", flush=True)\n",
    "\n",
    "    if os.path.exists(filepath):\n",
    "        loaded_doc = json.load(open(filepath))\n",
    "        doc['embedding'] = loaded_doc['embedding']\n",
    "        print(\"restored from file\")\n",
    "    else:\n",
    "        doc['embedding'] = model.embed_query(doc['text'])\n",
    "        print(\"generated\")\n",
    "\n",
    "    with open(filepath, \"w\") as f:\n",
    "        json.dump(doc, f, indent=4)\n"
   ]
  },
  {
   "cell_type": "markdown",
   "id": "fa5d7538",
   "metadata": {},
   "source": [
    "## Vector Database Setup\n",
    "\n",
    "Initialize ChromaDB with persistent storage and create a collection optimized for real estate listings. Configure the collection with cosine similarity and proper dimensionality for the embeddings.\n"
   ]
  },
  {
   "cell_type": "code",
   "execution_count": 13,
   "id": "a738648e",
   "metadata": {},
   "outputs": [],
   "source": [
    "# Create the persist directory if it doesn't exist\n",
    "persist_directory = os.path.join(os.getcwd(), \"../data/.chroma_db\")\n",
    "os.makedirs(persist_directory, exist_ok=True)\n",
    "\n",
    "# Initialize Chroma client with proper persistence settings\n",
    "client = chromadb.PersistentClient(path=persist_directory)\n",
    "collection = client.get_or_create_collection(\n",
    "    name=\"listings\", \n",
    "    embedding_function=None,\n",
    "    metadata={\"hnsw:space\": \"cosine\", \"dimension\": 1536}\n",
    ")"
   ]
  },
  {
   "cell_type": "markdown",
   "id": "78972b1a",
   "metadata": {},
   "source": [
    "### Adding Documents to the Collection\n",
    "\n",
    "Populate the vector database with all prepared documents, embeddings, and metadata. This creates a searchable index of all real estate listings.\n"
   ]
  },
  {
   "cell_type": "code",
   "execution_count": 14,
   "id": "c27e4f2d",
   "metadata": {},
   "outputs": [
    {
     "name": "stdout",
     "output_type": "stream",
     "text": [
      "Number of documents in collection: 200\n"
     ]
    }
   ],
   "source": [
    "ids = [doc['filename'] for doc in all_docs]\n",
    "documents = [doc['text'] for doc in all_docs]\n",
    "metadatas = [doc['metadata'] for doc in all_docs]\n",
    "embeddings = [doc['embedding'] for doc in all_docs]\n",
    "collection.add(ids=ids, documents=documents, metadatas=metadatas, embeddings=embeddings)\n",
    "\n",
    "print(f\"Number of documents in collection: {collection.count()}\")\n"
   ]
  },
  {
   "cell_type": "markdown",
   "id": "84b21703",
   "metadata": {},
   "source": [
    "## Search Demonstration\n",
    "\n",
    "Test the vector database with a sample query that demonstrates both semantic search capabilities and metadata filtering.\n"
   ]
  },
  {
   "cell_type": "code",
   "execution_count": 15,
   "id": "9aff1112",
   "metadata": {},
   "outputs": [],
   "source": [
    "query = \"I'm looking for a 2-3 bedroom property in Krakow for me and my three cats. I love animals I and need a big balcony\"\n",
    "embedded_query = model.embed_query(query)"
   ]
  },
  {
   "cell_type": "code",
   "execution_count": 16,
   "id": "402bbfc1",
   "metadata": {},
   "outputs": [
    {
     "name": "stdout",
     "output_type": "stream",
     "text": [
      "== RESULTS ==============\n",
      "ID: listing_130.json\n",
      "Metadata: {\n",
      "    \"neighborhood\": \"Bronowice\",\n",
      "    \"has_airport_access\": true,\n",
      "    \"urban_level\": \"medium\",\n",
      "    \"has_bike_lines_access\": true,\n",
      "    \"bedrooms\": 3,\n",
      "    \"property_type\": \"duplex\",\n",
      "    \"has_public_transport_access\": true,\n",
      "    \"city\": \"Krakow\",\n",
      "    \"price\": 1495000,\n",
      "    \"size_sqm\": 135,\n",
      "    \"bathrooms\": 3,\n",
      "    \"has_highway_access\": true\n",
      "}\n",
      "Document: TITLE: Sleek Scandinavian Duplex With Garden Views in Bronowice\n",
      "PROPERTY: duplex, 3 bedrooms, 3 bathrooms, 135 square meters\n",
      "LOCATION: Krakow, Bronowice\n",
      "DESCRIPTION: Experience pared-back elegance in this newly renovated Scandinavian-style duplex. Offering 3 airy bedrooms, 3 minimalist bathrooms, and a sun-drenched living area, the property blends natural textures with clean lines. Glass doors open onto a private balcony, while floor-to-ceiling windows welcome tranquil garden glimpses inside. Contemporary finishes throughout invite both calm and comfort.\n",
      "FEATURES: newly renovated Scandinavian interior, landscaped communal surroundings, private balcony overlooking greenery, wheelchair accessible entrance and lift, dedicated pet zone in gardens, energy-efficient smart appliances\n",
      "LIFESTYLE: walk to parks and cafes with your pet, cycle-friendly streets at your doorstep, seamless highways and public transit, ample room for home-based living with pets\n",
      "NEIGHBORHOOD: Set in vibrant Bronowice, this home is perched in a district pulsing with dynamic energy and balanced outdoor possibilities. Bestowed with parks, local squares, trendy cafes, and boutique shopping, the neighborhood supports a lively and active lifestyle. Public transport and bike lines interlace the area, while fast highway and airport access circulate you to the broader pulse of Krakow or beyond.\n",
      "BUYER PROFILE: Ideal for modern couples or young families, especially pet owners who value seamless indoor-outdoor connections and nearby communal green spaces.\n",
      "MARKET POSITIONING: This turnkey duplex brings a rare blend of fresh interiors and lifestyle-oriented amenities to Bronowice at a competitive price for the area, appealing to buyers seeking move-in ready quality and a lively, well-connected yet balanced urban atmosphere.\n",
      "\n",
      "---\n",
      "ID: listing_052.json\n",
      "Metadata: {\n",
      "    \"size_sqm\": 76,\n",
      "    \"urban_level\": \"medium\",\n",
      "    \"bedrooms\": 3,\n",
      "    \"has_highway_access\": true,\n",
      "    \"property_type\": \"apartment\",\n",
      "    \"neighborhood\": \"Pradnik Bialy\",\n",
      "    \"price\": 1165000,\n",
      "    \"has_airport_access\": false,\n",
      "    \"has_bike_lines_access\": false,\n",
      "    \"city\": \"Krakow\",\n",
      "    \"has_public_transport_access\": true,\n",
      "    \"bathrooms\": 1\n",
      "}\n",
      "Document: TITLE: Historic 3-Bed Apartment with Work-From-Home Appeal in Prądnik Biały\n",
      "PROPERTY: apartment, 3 bedrooms, 1 bathrooms, 76 square meters\n",
      "LOCATION: Krakow, Pradnik Bialy\n",
      "DESCRIPTION: Set within a charming building that captures the enduring ambiance of Krakow's history, this 3-bedroom apartment offers the ideal blend of classic architecture and modern comfort. With sprawling 76 sqm, this home boasts a spacious living area harmoniously combined with a dedicated dining nook suffused with natural sunlight. Animals are warmly welcomed, and a flexible layout makes it perfect for those needing a distinct space for a home office. A well-kept bathroom and refinished hardwood floors add to the home's traditional appeal.\n",
      "FEATURES: Spacious home office area, Expansive living/dining room with abundant natural light, Recently restored original parquet floors, Pet-friendly policy, Fiber optic internet ready, Secure building with modern access control\n",
      "LIFESTYLE: Perfect environment for remote work, Live-work balance surrounded by greenery, Short walks to local cafes and amenities, Community green spaces for recreation and pets, Easy commute with robust public transport\n",
      "NEIGHBORHOOD: Prądnik Biały represents a harmonious balance of Krakow’s historic past and its contemporary growth. Known for its pet-friendly and welcoming environment, the neighborhood integrates lush parks with modern restaurants, coffee shops, and shopping options nearby. Thanks to its strong network of public transportation and quick highway access, travel across the city and beyond is seamless for commuters and remote workers alike.\n",
      "BUYER PROFILE: Ideal for remote professionals or young families seeking a tranquil workspace and the historic character found only in Krakow’s established districts. Pet owners or digital creatives will find the flexible layout, local parks, and connectivity particularly attractive.\n",
      "MARKET POSITIONING: Rarely available, this mid-sized apartment offers substantial value for its blend of authentic charm, work-from-home potential, and proximity to both city buzz and outdoor escapes—an uncommon opportunity in Krakow's surging real estate market.\n",
      "\n",
      "---\n",
      "ID: listing_056.json\n",
      "Metadata: {\n",
      "    \"bathrooms\": 1,\n",
      "    \"has_highway_access\": true,\n",
      "    \"size_sqm\": 129,\n",
      "    \"bedrooms\": 3,\n",
      "    \"city\": \"Krakow\",\n",
      "    \"property_type\": \"loft\",\n",
      "    \"has_bike_lines_access\": true,\n",
      "    \"has_public_transport_access\": true,\n",
      "    \"urban_level\": \"medium\",\n",
      "    \"neighborhood\": \"Podgorze\",\n",
      "    \"has_airport_access\": false,\n",
      "    \"price\": 1460000\n",
      "}\n",
      "Document: TITLE: Sleek Designer Loft with Panoramic Rooftop Deck in Podgórze\n",
      "PROPERTY: loft, 3 bedrooms, 1 bathrooms, 129 square meters\n",
      "LOCATION: Krakow, Podgorze\n",
      "DESCRIPTION: Embrace upscale urban living in this stunning loft that blends contemporary design with timeless comfort. Spanning 129 sqm, this residence welcomes you with an expansive open floor plan, natural light flooding in from floor-to-ceiling windows, and luxe custom finishes. Three appointed bedrooms and a spa-inspired bathroom cater to families or professionals seeking functional style.\n",
      "\n",
      "Delicate attention to detail—from built-in wardrobes to designer banisters—ensures everyday convenience. Residents are treated to elevator access straight to all floors and access to an exclusive rooftop deck, perfect for sunset views or after-work relaxation.\n",
      "FEATURES: open floor plan, full-height windows, built-in wardrobes, elevator access, exclusive rooftop deck, recycling and bike storage facilities\n",
      "LIFESTYLE: excellent commuting links, sought-after address for long-term stability, walkable to business district and parks, eco-friendly urban community, safe and thriving social environment\n",
      "NEIGHBORHOOD: Podgórze is Krakow’s thriving modern quarter, famed for its lively urban energy while offering peace and safety on every corner. Business hubs, eco-forward cafés, and carefully preserved green areas attract a diverse, vibrant community. With direct public transport, curated bike lanes, and easy access to the highway, the neighborhood seamlessly connects to the city center and beyond.\n",
      "BUYER PROFILE: Perfect for long-term renters or professionals seeking modern elegance, connectivity, and a strong community feeling in one of Krakow’s rising districts.\n",
      "MARKET POSITIONING: Positioned at the upper segement of the Podgorze loft market, this premium property stands out for its design quality, rare rooftop amenity, and lifestyle-driven location, establishing it among the finest long-term rental lofts in Krakow.\n",
      "\n",
      "---\n"
     ]
    }
   ],
   "source": [
    "res = collection.query(\n",
    "    query_embeddings=[embedded_query], \n",
    "    n_results=3,\n",
    "    where={\n",
    "        \"$and\": [\n",
    "            {\"city\": \"Krakow\"},\n",
    "            {\"$and\": [\n",
    "              {\"bedrooms\": {\"$gte\": 2}},\n",
    "              {\"bedrooms\": {\"$lte\": 3}}\n",
    "            ]}\n",
    "        ]\n",
    "    }\n",
    ")\n",
    "\n",
    "\n",
    "print(\"== RESULTS ==============\")\n",
    "\n",
    "for i in range(len(res['documents'][0])):\n",
    "    print(f\"ID: {res['ids'][0][i]}\")\n",
    "    print(f\"Metadata: {json.dumps(res['metadatas'][0][i], indent=4)}\")\n",
    "    print(f\"Document: {res['documents'][0][i]}\")\n",
    "    print(\"---\")\n"
   ]
  }
 ],
 "metadata": {
  "kernelspec": {
   "display_name": "venv",
   "language": "python",
   "name": "python3"
  },
  "language_info": {
   "codemirror_mode": {
    "name": "ipython",
    "version": 3
   },
   "file_extension": ".py",
   "mimetype": "text/x-python",
   "name": "python",
   "nbconvert_exporter": "python",
   "pygments_lexer": "ipython3",
   "version": "3.13.5"
  }
 },
 "nbformat": 4,
 "nbformat_minor": 5
}
