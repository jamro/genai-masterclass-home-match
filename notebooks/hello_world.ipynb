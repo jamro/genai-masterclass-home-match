{
 "cells": [
  {
   "cell_type": "code",
   "execution_count": 5,
   "id": "8d420d53",
   "metadata": {},
   "outputs": [],
   "source": [
    "import os\n",
    "from dotenv import load_dotenv\n",
    "from langchain_openai import ChatOpenAI\n",
    "from langchain.schema import HumanMessage\n",
    "\n",
    "# Load environment variables from .env file\n",
    "load_dotenv()\n",
    "\n",
    "# Initialize OpenAI GPT-4 model\n",
    "llm = ChatOpenAI(\n",
    "    model=\"gpt-4\",\n",
    "    api_key=os.getenv('OPENAI_API_KEY'),\n",
    "    temperature=0.7\n",
    ")\n"
   ]
  },
  {
   "cell_type": "code",
   "execution_count": 6,
   "id": "e9288390",
   "metadata": {},
   "outputs": [
    {
     "name": "stdout",
     "output_type": "stream",
     "text": [
      "GPT-4 Response:\n",
      "Hello! How can I assist you today?\n"
     ]
    }
   ],
   "source": [
    "# Simple Hello World with LangChain and OpenAI GPT-4\n",
    "message = HumanMessage(content=\"Hello!\")\n",
    "\n",
    "# Get response from GPT-4\n",
    "response = llm.invoke([message])\n",
    "\n",
    "# Display the response\n",
    "print(\"GPT-4 Response:\")\n",
    "print(response.content)"
   ]
  }
 ],
 "metadata": {
  "kernelspec": {
   "display_name": "venv",
   "language": "python",
   "name": "python3"
  },
  "language_info": {
   "codemirror_mode": {
    "name": "ipython",
    "version": 3
   },
   "file_extension": ".py",
   "mimetype": "text/x-python",
   "name": "python",
   "nbconvert_exporter": "python",
   "pygments_lexer": "ipython3",
   "version": "3.13.5"
  }
 },
 "nbformat": 4,
 "nbformat_minor": 5
}
